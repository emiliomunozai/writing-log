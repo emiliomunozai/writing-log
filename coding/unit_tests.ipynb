{
 "cells": [
  {
   "cell_type": "markdown",
   "metadata": {},
   "source": [
    "#### Unit tests\n",
    "\n",
    "In software, it is a good practice to modularize code functionality. This is achived by structuring functions and objects that acomplish one single function to later on ensammble them with the correct logic that solves the objective the code was design for. Allowing developers to review and improve code in a more organized way. A step in this process is to increase its quality and reslience. For this, writing tests that validate the inputs, the working and the outputs of modular components , this is what is known as unit testing. This princple should be adopted by data scientists who often struggle with bugs within their code because the lack of good software engineering pratices.\n",
    "\n",
    "First, lets difine what are the principal components that structure a data science project. A good way to frame this is based on Kedro architecture a developing framework that tryies to introduce more structure into this type of impelmentation. Kedro, is all about nodes and pipeles, which work really similar as functions that then are ensambled into pipeles that usually correspond to a step of the crips-dm model. Understanding this, we could introduce a good pratice within data science teams that ensure they test each of this nodes as a corresponding practice in the software engineering world. \n",
    "\n",
    "To estandarize this activity we could approach it in a systematic way that adresses the comon errors they commit. We have data type errors, logic errors (im not sure that logic errors are adressed within unit tests). Also some test that validate if the right data science methodologies are being applied and no big errors are being produced.\n",
    "\n",
    "\n",
    "\n"
   ]
  },
  {
   "cell_type": "code",
   "execution_count": null,
   "metadata": {
    "vscode": {
     "languageId": "plaintext"
    }
   },
   "outputs": [],
   "source": []
  }
 ],
 "metadata": {
  "language_info": {
   "name": "python"
  }
 },
 "nbformat": 4,
 "nbformat_minor": 2
}
